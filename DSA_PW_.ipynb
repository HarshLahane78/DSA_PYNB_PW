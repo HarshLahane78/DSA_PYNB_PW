{
 "cells": [
  {
   "cell_type": "code",
   "execution_count": 2,
   "id": "26556b89-28f9-4961-8676-1ddc1b8fd8c7",
   "metadata": {},
   "outputs": [
    {
     "name": "stdout",
     "output_type": "stream",
     "text": [
      "Original list:\n",
      "1 -> 2 -> 3 -> 4 -> 5\n",
      "Reversed list:\n",
      "5 -> 4 -> 3 -> 2 -> 1\n"
     ]
    }
   ],
   "source": [
    "class ListNode:\n",
    "    def __init__(self, value=0, next=None):\n",
    "        self.value = value\n",
    "        self.next = next\n",
    "\n",
    "def reverseList(head):\n",
    "    prev = None\n",
    "    current = head\n",
    "    while current:\n",
    "        next_node = current.next\n",
    "        current.next = prev\n",
    "        prev = current\n",
    "        current = next_node\n",
    "    return prev\n",
    "\n",
    "def printList(node):\n",
    "    while node:\n",
    "        print(node.value, end=\" -> \" if node.next else \"\\n\")\n",
    "        node = node.next\n",
    "\n",
    "head = ListNode(1, ListNode(2, ListNode(3, ListNode(4, ListNode(5)))))\n",
    "print(\"Original list:\")\n",
    "printList(head)\n",
    "\n",
    "reversed_head = reverseList(head)\n",
    "print(\"Reversed list:\")\n",
    "printList(reversed_head)\n"
   ]
  },
  {
   "cell_type": "code",
   "execution_count": 3,
   "id": "ecfc8027-e8a7-418b-8550-d87c0667daf3",
   "metadata": {},
   "outputs": [
    {
     "name": "stdout",
     "output_type": "stream",
     "text": [
      "Merged list:\n",
      "1 -> 2 -> 3 -> 4 -> 5 -> 6\n"
     ]
    }
   ],
   "source": [
    "def mergeTwoLists(l1, l2):\n",
    "    dummy = ListNode()\n",
    "    tail = dummy\n",
    "    while l1 and l2:\n",
    "        if l1.value < l2.value:\n",
    "            tail.next = l1\n",
    "            l1 = l1.next\n",
    "        else:\n",
    "            tail.next = l2\n",
    "            l2 = l2.next\n",
    "        tail = tail.next\n",
    "    tail.next = l1 if l1 else l2\n",
    "    return dummy.next\n",
    "\n",
    "l1 = ListNode(1, ListNode(3, ListNode(5)))\n",
    "l2 = ListNode(2, ListNode(4, ListNode(6)))\n",
    "\n",
    "print(\"Merged list:\")\n",
    "merged_list = mergeTwoLists(l1, l2)\n",
    "printList(merged_list)\n"
   ]
  },
  {
   "cell_type": "code",
   "execution_count": 4,
   "id": "7db9cf2c-aab5-4c5b-afe6-dff260b7a2c8",
   "metadata": {},
   "outputs": [
    {
     "name": "stdout",
     "output_type": "stream",
     "text": [
      "Original list:\n",
      "1 -> 2 -> 3 -> 4 -> 5\n"
     ]
    },
    {
     "name": "stdin",
     "output_type": "stream",
     "text": [
      "Enter the element position you want to remove :  2\n"
     ]
    },
    {
     "name": "stdout",
     "output_type": "stream",
     "text": [
      "After removing the 2nd node from the end:\n",
      "1 -> 2 -> 3 -> 5\n"
     ]
    }
   ],
   "source": [
    "def removeNthFromEnd(head, n):\n",
    "    dummy = ListNode(0, head)\n",
    "    slow = fast = dummy\n",
    "    for _ in range(n + 1):\n",
    "        fast = fast.next\n",
    "    while fast:\n",
    "        slow = slow.next\n",
    "        fast = fast.next\n",
    "    slow.next = slow.next.next\n",
    "    return dummy.next\n",
    "\n",
    "head = ListNode(1, ListNode(2, ListNode(3, ListNode(4, ListNode(5)))))\n",
    "\n",
    "print(\"Original list:\")\n",
    "printList(head)\n",
    "\n",
    "n = int(input(\"Enter the element position you want to remove : \")) \n",
    "result_head = removeNthFromEnd(head, n)\n",
    "print(f\"After removing the {n}nd node from the end:\")\n",
    "printList(result_head)\n"
   ]
  },
  {
   "cell_type": "code",
   "execution_count": 5,
   "id": "06493912-b584-4cd6-b9e3-cc61d1e66514",
   "metadata": {},
   "outputs": [
    {
     "name": "stdout",
     "output_type": "stream",
     "text": [
      "Intersection at node with value: 3\n"
     ]
    }
   ],
   "source": [
    "def getIntersectionNode(headA, headB):\n",
    "    if not headA or not headB:\n",
    "        return None\n",
    "    a, b = headA, headB\n",
    "    while a != b:\n",
    "        a = a.next if a else headB\n",
    "        b = b.next if b else headA\n",
    "    return a\n",
    "\n",
    "intersect = ListNode(3, ListNode(4))\n",
    "l1 = ListNode(1, ListNode(2, intersect))\n",
    "l2 = ListNode(9, ListNode(8, intersect))\n",
    "\n",
    "intersection_node = getIntersectionNode(l1, l2)\n",
    "print(f\"Intersection at node with value: {intersection_node.value if intersection_node else 'No intersection'}\")\n"
   ]
  },
  {
   "cell_type": "code",
   "execution_count": 6,
   "id": "4c0ae0a8-b20c-4d79-bd6a-4ea4f7b2b88f",
   "metadata": {},
   "outputs": [
    {
     "name": "stdout",
     "output_type": "stream",
     "text": [
      "Original list:\n",
      "1 -> 1 -> 2 -> 3 -> 3\n",
      "List after removing duplicates:\n",
      "1 -> 2 -> 3\n"
     ]
    }
   ],
   "source": [
    "def deleteDuplicates(head):\n",
    "    current = head\n",
    "    while current and current.next:\n",
    "        if current.value == current.next.value:\n",
    "            current.next = current.next.next\n",
    "        else:\n",
    "            current = current.next\n",
    "    return head\n",
    "\n",
    "head = ListNode(1, ListNode(1, ListNode(2, ListNode(3, ListNode(3)))))\n",
    "\n",
    "print(\"Original list:\")\n",
    "printList(head)\n",
    "\n",
    "unique_list = deleteDuplicates(head)\n",
    "print(\"List after removing duplicates:\")\n",
    "printList(unique_list)\n"
   ]
  },
  {
   "cell_type": "code",
   "execution_count": 7,
   "id": "03f8f970-dfb9-4f45-a55d-a6bdc62f3b34",
   "metadata": {},
   "outputs": [
    {
     "name": "stdout",
     "output_type": "stream",
     "text": [
      "Sum of two numbers:\n",
      "7 -> 0 -> 8\n"
     ]
    }
   ],
   "source": [
    "def addTwoNumbers(l1, l2):\n",
    "    dummy = ListNode()\n",
    "    current = dummy\n",
    "    carry = 0\n",
    "    while l1 or l2 or carry:\n",
    "        val1 = l1.value if l1 else 0\n",
    "        val2 = l2.value if l2 else 0\n",
    "        carry, out = divmod(val1 + val2 + carry, 10)\n",
    "        current.next = ListNode(out)\n",
    "        current = current.next\n",
    "        l1 = l1.next if l1 else None\n",
    "        l2 = l2.next if l2 else None\n",
    "    return dummy.next\n",
    "\n",
    "l1 = ListNode(2, ListNode(4, ListNode(3)))\n",
    "l2 = ListNode(5, ListNode(6, ListNode(4)))\n",
    "\n",
    "print(\"Sum of two numbers:\")\n",
    "sum_list = addTwoNumbers(l1, l2)\n",
    "printList(sum_list)\n"
   ]
  },
  {
   "cell_type": "code",
   "execution_count": 8,
   "id": "ff7e200a-70ba-4057-a9dc-34e5400535ac",
   "metadata": {},
   "outputs": [
    {
     "name": "stdout",
     "output_type": "stream",
     "text": [
      "Original list:\n",
      "1 -> 2 -> 3 -> 4\n",
      "List after swapping pairs:\n",
      "2 -> 1 -> 4 -> 3\n"
     ]
    }
   ],
   "source": [
    "def swapPairs(head):\n",
    "    dummy = ListNode(0)\n",
    "    dummy.next = head\n",
    "    prev, current = dummy, head\n",
    "    while current and current.next:\n",
    "        first = current\n",
    "        second = current.next\n",
    "        \n",
    "        # Swapping\n",
    "        prev.next = second\n",
    "        first.next = second.next\n",
    "        second.next = first\n",
    "        \n",
    "        # Moving the pointers\n",
    "        prev = first\n",
    "        current = first.next\n",
    "    return dummy.next\n",
    "\n",
    "head = ListNode(1, ListNode(2, ListNode(3, ListNode(4))))\n",
    "\n",
    "print(\"Original list:\")\n",
    "printList(head)\n",
    "\n",
    "# Swap nodes in pairs\n",
    "swapped_list = swapPairs(head)\n",
    "print(\"List after swapping pairs:\")\n",
    "printList(swapped_list)\n"
   ]
  },
  {
   "cell_type": "code",
   "execution_count": 9,
   "id": "64180887-be09-4a7f-a8d5-a36292839a89",
   "metadata": {},
   "outputs": [
    {
     "name": "stdout",
     "output_type": "stream",
     "text": [
      "Original list:\n",
      "1 -> 2 -> 3 -> 4 -> 5\n",
      "List after reversing in groups of 3:\n",
      "3 -> 2 -> 1 -> 4 -> 5\n"
     ]
    }
   ],
   "source": [
    "def reverseKGroup(head, k):\n",
    "    count = 0\n",
    "    node = head\n",
    "    # Check if we have k nodes available\n",
    "    while count < k and node:\n",
    "        node = node.next\n",
    "        count += 1\n",
    "    if count == k:\n",
    "        prev = reverseKGroup(node, k)\n",
    "        while count > 0:\n",
    "            temp = head.next\n",
    "            head.next = prev\n",
    "            prev = head\n",
    "            head = temp\n",
    "            count -= 1\n",
    "        return prev\n",
    "    return head\n",
    "\n",
    "head = ListNode(1, ListNode(2, ListNode(3, ListNode(4, ListNode(5)))))\n",
    "\n",
    "print(\"Original list:\")\n",
    "printList(head)\n",
    "\n",
    "# Reverse nodes in groups of 3\n",
    "reversed_in_groups = reverseKGroup(head, 3)\n",
    "print(\"List after reversing in groups of 3:\")\n",
    "printList(reversed_in_groups)\n"
   ]
  },
  {
   "cell_type": "code",
   "execution_count": 10,
   "id": "b482289c-eeee-497a-856a-e3c8705287e5",
   "metadata": {},
   "outputs": [
    {
     "name": "stdout",
     "output_type": "stream",
     "text": [
      "Is the list a palindrome?\n",
      "True\n"
     ]
    }
   ],
   "source": [
    "def isPalindrome(head):\n",
    "    slow, fast = head, head\n",
    "    prev = None\n",
    "\n",
    "    # Find the middle of the list\n",
    "    while fast and fast.next:\n",
    "        fast = fast.next.next\n",
    "        temp = slow.next\n",
    "        slow.next = prev\n",
    "        prev = slow\n",
    "        slow = temp\n",
    "\n",
    "    # If the list has an odd number of elements, move slow pointer one step further\n",
    "    if fast:\n",
    "        slow = slow.next\n",
    "\n",
    "    # Compare the reversed first half with the second half\n",
    "    while prev and slow:\n",
    "        if prev.value != slow.value:\n",
    "            return False\n",
    "        prev = prev.next\n",
    "        slow = slow.next\n",
    "\n",
    "    return True\n",
    "\n",
    "head = ListNode(1, ListNode(2, ListNode(2, ListNode(1))))\n",
    "\n",
    "print(\"Is the list a palindrome?\")\n",
    "print(isPalindrome(head))  # Output: True\n"
   ]
  },
  {
   "cell_type": "code",
   "execution_count": 11,
   "id": "db8addd7-69c2-4511-a60e-94571a2662a4",
   "metadata": {},
   "outputs": [
    {
     "name": "stdout",
     "output_type": "stream",
     "text": [
      "Original list:\n",
      "1 -> 2 -> 3 -> 4 -> 5\n",
      "List after rotating by 2:\n",
      "4 -> 5 -> 1 -> 2 -> 3\n"
     ]
    }
   ],
   "source": [
    "def rotateRight(head, k):\n",
    "    if not head:\n",
    "        return None\n",
    "    \n",
    "    # First, compute the length of the list\n",
    "    length = 1\n",
    "    tail = head\n",
    "    while tail.next:\n",
    "        tail = tail.next\n",
    "        length += 1\n",
    "    \n",
    "    # Make the list circular\n",
    "    tail.next = head\n",
    "    k = k % length\n",
    "    steps_to_new_head = length - k\n",
    "    \n",
    "    # Find the new head and tail\n",
    "    new_tail = head\n",
    "    for _ in range(steps_to_new_head - 1):\n",
    "        new_tail = new_tail.next\n",
    "    new_head = new_tail.next\n",
    "    new_tail.next = None\n",
    "    \n",
    "    return new_head\n",
    "\n",
    "head = ListNode(1, ListNode(2, ListNode(3, ListNode(4, ListNode(5)))))\n",
    "\n",
    "print(\"Original list:\")\n",
    "printList(head)\n",
    "\n",
    "# Rotate the list by 2 places\n",
    "rotated_list = rotateRight(head, 2)\n",
    "print(\"List after rotating by 2:\")\n",
    "printList(rotated_list)\n"
   ]
  },
  {
   "cell_type": "code",
   "execution_count": 12,
   "id": "731233a9-8f8f-4ca3-a5ba-fa69f9818a10",
   "metadata": {},
   "outputs": [],
   "source": [
    "class DoublyListNode:\n",
    "    def __init__(self, value=0, next=None, prev=None, child=None):\n",
    "        self.value = value\n",
    "        self.next = next\n",
    "        self.prev = prev\n",
    "        self.child = child\n",
    "\n",
    "def flatten(head):\n",
    "    if not head:\n",
    "        return head\n",
    "    \n",
    "    stack = []\n",
    "    current = head\n",
    "    while current:\n",
    "        if current.child:\n",
    "            if current.next:\n",
    "                stack.append(current.next)\n",
    "            current.next = current.child\n",
    "            current.child.prev = current\n",
    "            current.child = None\n",
    "        if not current.next and stack:\n",
    "            current.next = stack.pop()\n",
    "            current.next.prev = current\n",
    "        current = current.next\n",
    "    \n",
    "    return head\n"
   ]
  },
  {
   "cell_type": "code",
   "execution_count": 13,
   "id": "9ef501fa-5401-4265-9c08-7288f22d94f3",
   "metadata": {},
   "outputs": [
    {
     "name": "stdout",
     "output_type": "stream",
     "text": [
      "Original List:\n",
      "1 <-> 2 <-> 3 <-> 7 <-> 8 <-> 11 <-> 12\n",
      "\n",
      "Flattened List:\n",
      "1 <-> 2 <-> 3 <-> 4 <-> 5 <-> 9 <-> 10 <-> 7 <-> 8 <-> 6 <-> 13 <-> 11 <-> 12\n"
     ]
    }
   ],
   "source": [
    "class DoublyListNode:\n",
    "    def __init__(self, value=0, next=None, prev=None, child=None):\n",
    "        self.value = value\n",
    "        self.next = next\n",
    "        self.prev = prev\n",
    "        self.child = child\n",
    "\n",
    "# Helper function to print the list after flattening\n",
    "def printList(head):\n",
    "    while head:\n",
    "        print(head.value, end=\" <-> \" if head.next else \"\\n\")\n",
    "        head = head.next\n",
    "\n",
    "# Flattening function\n",
    "def flatten(head):\n",
    "    if not head:\n",
    "        return head\n",
    "    \n",
    "    stack = []\n",
    "    current = head\n",
    "    while current:\n",
    "        if current.child:\n",
    "            if current.next:\n",
    "                stack.append(current.next)\n",
    "            current.next = current.child\n",
    "            current.child.prev = current\n",
    "            current.child = None\n",
    "        if not current.next and stack:\n",
    "            current.next = stack.pop()\n",
    "            current.next.prev = current\n",
    "        current = current.next\n",
    "    \n",
    "    return head\n",
    "\n",
    "# Create the example list: 1 <-> 2 <-> 3 <-> 7 <-> 8 <-> 11 -> 12, 4 <-> 5 -> 9 -> 10, 6 -> 13\n",
    "\n",
    "# Level 1\n",
    "head = DoublyListNode(1)\n",
    "node2 = DoublyListNode(2)\n",
    "node3 = DoublyListNode(3)\n",
    "node7 = DoublyListNode(7)\n",
    "node8 = DoublyListNode(8)\n",
    "node11 = DoublyListNode(11)\n",
    "node12 = DoublyListNode(12)\n",
    "\n",
    "head.next = node2\n",
    "node2.prev = head\n",
    "node2.next = node3\n",
    "node3.prev = node2\n",
    "node3.next = node7\n",
    "node7.prev = node3\n",
    "node7.next = node8\n",
    "node8.prev = node7\n",
    "node8.next = node11\n",
    "node11.prev = node8\n",
    "node11.next = node12\n",
    "node12.prev = node11\n",
    "\n",
    "# Child of node 3\n",
    "node4 = DoublyListNode(4)\n",
    "node5 = DoublyListNode(5)\n",
    "node9 = DoublyListNode(9)\n",
    "node10 = DoublyListNode(10)\n",
    "\n",
    "node3.child = node4\n",
    "node4.next = node5\n",
    "node5.prev = node4\n",
    "node5.child = node9\n",
    "node9.next = node10\n",
    "node10.prev = node9\n",
    "\n",
    "# Child of node 8\n",
    "node6 = DoublyListNode(6)\n",
    "node8.child = node6\n",
    "node6.child = DoublyListNode(13)\n",
    "\n",
    "# Print original list\n",
    "print(\"Original List:\")\n",
    "printList(head)\n",
    "\n",
    "# Flatten the list\n",
    "flattened_list = flatten(head)\n",
    "\n",
    "# Print the flattened list\n",
    "print(\"\\nFlattened List:\")\n",
    "printList(flattened_list)"
   ]
  },
  {
   "cell_type": "code",
   "execution_count": 14,
   "id": "49078535-3296-4010-a68d-4872fb257a67",
   "metadata": {},
   "outputs": [
    {
     "name": "stdout",
     "output_type": "stream",
     "text": [
      "Original list:\n",
      "1 <-> 2 <-> 3 <-> 4 <-> 5\n",
      "List after rearranging:\n",
      "1 <-> 3 <-> 5 <-> 2 <-> 4\n"
     ]
    }
   ],
   "source": [
    "def rearrangeEvenOdd(head):\n",
    "    if not head:\n",
    "        return None\n",
    "    \n",
    "    odd = head\n",
    "    even = head.next\n",
    "    even_head = even\n",
    "    \n",
    "    while even and even.next:\n",
    "        odd.next = even.next\n",
    "        odd = odd.next\n",
    "        even.next = odd.next\n",
    "        even = even.next\n",
    "    \n",
    "    odd.next = even_head\n",
    "    return head\n",
    "\n",
    "head = ListNode(1, ListNode(2, ListNode(3, ListNode(4, ListNode(5)))))\n",
    "\n",
    "print(\"Original list:\")\n",
    "printList(head)\n",
    "\n",
    "# Rearrange list\n",
    "rearranged_list = rearrangeEvenOdd(head)\n",
    "print(\"List after rearranging:\")\n",
    "printList(rearranged_list)\n"
   ]
  },
  {
   "cell_type": "code",
   "execution_count": 15,
   "id": "54698b69-4b77-46bd-bc4f-aadce7422239",
   "metadata": {},
   "outputs": [
    {
     "name": "stdout",
     "output_type": "stream",
     "text": [
      "Original List:\n",
      "1 -> 2 -> 3\n",
      "\n",
      "List after adding one:\n",
      "1 -> 2 -> 4\n"
     ]
    }
   ],
   "source": [
    "class ListNode:\n",
    "    def __init__(self, value=0, next=None):\n",
    "        self.value = value\n",
    "        self.next = next\n",
    "\n",
    "# Function to reverse the linked list\n",
    "def reverseList(head):\n",
    "    prev = None\n",
    "    current = head\n",
    "    while current:\n",
    "        next_node = current.next\n",
    "        current.next = prev\n",
    "        prev = current\n",
    "        current = next_node\n",
    "    return prev\n",
    "\n",
    "# Function to add one to the number represented by the linked list\n",
    "def addOne(head):\n",
    "    # Step 1: Reverse the linked list\n",
    "    head = reverseList(head)\n",
    "    \n",
    "    # Step 2: Add one to the reversed list\n",
    "    carry = 1\n",
    "    current = head\n",
    "    while current:\n",
    "        current.value += carry\n",
    "        if current.value < 10:\n",
    "            carry = 0\n",
    "            break\n",
    "        current.value = 0\n",
    "        if not current.next:\n",
    "            current.next = ListNode(1)  # Add new node if carry exists\n",
    "            carry = 0\n",
    "        current = current.next\n",
    "\n",
    "    # Step 3: Reverse the list back to its original order\n",
    "    head = reverseList(head)\n",
    "    return head\n",
    "\n",
    "# Helper function to print the linked list\n",
    "def printList(head):\n",
    "    while head:\n",
    "        print(head.value, end=\" -> \" if head.next else \"\\n\")\n",
    "        head = head.next\n",
    "\n",
    "# Example usage:\n",
    "# Input: 1 -> 2 -> 3 (represents the number 123)\n",
    "head = ListNode(1)\n",
    "head.next = ListNode(2)\n",
    "head.next.next = ListNode(3)\n",
    "\n",
    "print(\"Original List:\")\n",
    "printList(head)\n",
    "\n",
    "# Add one to the linked list\n",
    "new_head = addOne(head)\n",
    "print(\"\\nList after adding one:\")\n",
    "printList(new_head)\n"
   ]
  },
  {
   "cell_type": "code",
   "execution_count": 16,
   "id": "edb6dc86-c3f0-4ae2-adb9-001eae4b12c8",
   "metadata": {},
   "outputs": [
    {
     "name": "stdout",
     "output_type": "stream",
     "text": [
      "Target: 5\n",
      "Index: 2\n",
      "\n",
      "Target: 2\n",
      "Index: 1\n"
     ]
    }
   ],
   "source": [
    "# Function to find the index where the target would be inserted\n",
    "def searchInsert(nums, target):\n",
    "    low, high = 0, len(nums) - 1\n",
    "\n",
    "    while low <= high:\n",
    "        mid = (low + high) // 2\n",
    "        if nums[mid] == target:\n",
    "            return mid\n",
    "        elif nums[mid] < target:\n",
    "            low = mid + 1\n",
    "        else:\n",
    "            high = mid - 1\n",
    "\n",
    "    return low\n",
    "\n",
    "# Example usage:\n",
    "nums = [1, 3, 5, 6]\n",
    "target = 5\n",
    "print(\"Target:\", target)\n",
    "print(\"Index:\", searchInsert(nums, target))  # Output: 2\n",
    "\n",
    "target = 2\n",
    "print(\"\\nTarget:\", target)\n",
    "print(\"Index:\", searchInsert(nums, target))  # Output: 1\n"
   ]
  },
  {
   "cell_type": "code",
   "execution_count": 17,
   "id": "fa427573-91c4-423a-a317-f4d6d65ac513",
   "metadata": {},
   "outputs": [
    {
     "name": "stdout",
     "output_type": "stream",
     "text": [
      "Rotated Array: [4, 5, 6, 7, 0, 1, 2]\n",
      "Minimum element: 0\n"
     ]
    }
   ],
   "source": [
    "# Function to find the minimum element in a rotated sorted array\n",
    "def findMin(nums):\n",
    "    low, high = 0, len(nums) - 1\n",
    "\n",
    "    while low < high:\n",
    "        mid = (low + high) // 2\n",
    "        if nums[mid] > nums[high]:\n",
    "            low = mid + 1\n",
    "        else:\n",
    "            high = mid\n",
    "\n",
    "    return nums[low]\n",
    "\n",
    "# Example usage:\n",
    "nums = [4, 5, 6, 7, 0, 1, 2]\n",
    "print(\"Rotated Array:\", nums)\n",
    "print(\"Minimum element:\", findMin(nums))  # Output: 0\n"
   ]
  },
  {
   "cell_type": "code",
   "execution_count": 18,
   "id": "4684e5e1-da8c-4b10-8145-d05a1481d45f",
   "metadata": {},
   "outputs": [
    {
     "name": "stdout",
     "output_type": "stream",
     "text": [
      "Target: 0\n",
      "Index: 4\n"
     ]
    }
   ],
   "source": [
    "# Function to search for a target in a rotated sorted array\n",
    "def search(nums, target):\n",
    "    low, high = 0, len(nums) - 1\n",
    "\n",
    "    while low <= high:\n",
    "        mid = (low + high) // 2\n",
    "        if nums[mid] == target:\n",
    "            return mid\n",
    "        if nums[low] <= nums[mid]:  # Left half is sorted\n",
    "            if nums[low] <= target < nums[mid]:\n",
    "                high = mid - 1\n",
    "            else:\n",
    "                low = mid + 1\n",
    "        else:  # Right half is sorted\n",
    "            if nums[mid] < target <= nums[high]:\n",
    "                low = mid + 1\n",
    "            else:\n",
    "                high = mid - 1\n",
    "\n",
    "    return -1\n",
    "\n",
    "# Example usage:\n",
    "nums = [4, 5, 6, 7, 0, 1, 2]\n",
    "target = 0\n",
    "print(\"Target:\", target)\n",
    "print(\"Index:\", search(nums, target))  # Output: 4\n"
   ]
  },
  {
   "cell_type": "code",
   "execution_count": 19,
   "id": "31e54c92-d551-4fef-934a-37b7cf241a10",
   "metadata": {},
   "outputs": [
    {
     "name": "stdout",
     "output_type": "stream",
     "text": [
      "Peak element index: 2\n"
     ]
    }
   ],
   "source": [
    "# Function to find the peak element\n",
    "def findPeakElement(nums):\n",
    "    low, high = 0, len(nums) - 1\n",
    "\n",
    "    while low < high:\n",
    "        mid = (low + high) // 2\n",
    "        if nums[mid] > nums[mid + 1]:\n",
    "            high = mid\n",
    "        else:\n",
    "            low = mid + 1\n",
    "\n",
    "    return low\n",
    "\n",
    "# Example usage:\n",
    "nums = [1, 2, 3, 1]\n",
    "print(\"Peak element index:\", findPeakElement(nums))  # Output: 2\n"
   ]
  },
  {
   "cell_type": "code",
   "execution_count": 20,
   "id": "d2476880-55aa-46c0-8322-bec87f199c1c",
   "metadata": {},
   "outputs": [
    {
     "name": "stdout",
     "output_type": "stream",
     "text": [
      "Number of negatives: 8\n"
     ]
    }
   ],
   "source": [
    "# Function to count the negative numbers in a sorted matrix\n",
    "def countNegatives(grid):\n",
    "    count = 0\n",
    "    for row in grid:\n",
    "        for num in row:\n",
    "            if num < 0:\n",
    "                count += 1\n",
    "    return count\n",
    "\n",
    "# Example usage:\n",
    "grid = [\n",
    "    [4, 3, 2, -1],\n",
    "    [3, 2, 1, -1],\n",
    "    [1, 1, -1, -2],\n",
    "    [-1, -1, -2, -3]\n",
    "]\n",
    "print(\"Number of negatives:\", countNegatives(grid))  # Output: 8\n"
   ]
  },
  {
   "cell_type": "code",
   "execution_count": 21,
   "id": "0e494b0a-1f93-410d-8ba1-e6f9c8178449",
   "metadata": {},
   "outputs": [
    {
     "name": "stdout",
     "output_type": "stream",
     "text": [
      "Is target present: True\n"
     ]
    }
   ],
   "source": [
    "# Function to search for a target in a 2D matrix\n",
    "def searchMatrix(matrix, target):\n",
    "    if not matrix or not matrix[0]:\n",
    "        return False\n",
    "\n",
    "    rows, cols = len(matrix), len(matrix[0])\n",
    "    low, high = 0, rows * cols - 1\n",
    "\n",
    "    while low <= high:\n",
    "        mid = (low + high) // 2\n",
    "        mid_value = matrix[mid // cols][mid % cols]\n",
    "        if mid_value == target:\n",
    "            return True\n",
    "        elif mid_value < target:\n",
    "            low = mid + 1\n",
    "        else:\n",
    "            high = mid - 1\n",
    "\n",
    "    return False\n",
    "\n",
    "# Example usage:\n",
    "matrix = [\n",
    "    [1, 3, 5, 7],\n",
    "    [10, 11, 16, 20],\n",
    "    [23, 30, 34, 60]\n",
    "]\n",
    "target = 3\n",
    "print(\"Is target present:\", searchMatrix(matrix, target))  # Output: True\n"
   ]
  },
  {
   "cell_type": "code",
   "execution_count": 22,
   "id": "73bc213a-b31f-4491-9774-fa807abe04e5",
   "metadata": {},
   "outputs": [
    {
     "name": "stdout",
     "output_type": "stream",
     "text": [
      "Median: 2\n"
     ]
    }
   ],
   "source": [
    "# Function to find the median of two sorted arrays\n",
    "def findMedianSortedArrays(nums1, nums2):\n",
    "    combined = sorted(nums1 + nums2)\n",
    "    n = len(combined)\n",
    "    if n % 2 == 1:\n",
    "        return combined[n // 2]\n",
    "    else:\n",
    "        return (combined[n // 2 - 1] + combined[n // 2]) / 2\n",
    "\n",
    "# Example usage:\n",
    "nums1 = [1, 3]\n",
    "nums2 = [2]\n",
    "print(\"Median:\", findMedianSortedArrays(nums1, nums2))  # Output: 2.0\n"
   ]
  },
  {
   "cell_type": "code",
   "execution_count": 23,
   "id": "7d1977cd-3c0d-47f7-80e8-c3e5d5e72fc3",
   "metadata": {},
   "outputs": [
    {
     "name": "stdout",
     "output_type": "stream",
     "text": [
      "Next greatest letter: c\n"
     ]
    }
   ],
   "source": [
    "# Function to find the smallest letter greater than the target\n",
    "def nextGreatestLetter(letters, target):\n",
    "    for letter in letters:\n",
    "        if letter > target:\n",
    "            return letter\n",
    "    return letters[0]\n",
    "\n",
    "# Example usage:\n",
    "letters = ['c', 'f', 'j']\n",
    "target = 'a'\n",
    "print(\"Next greatest letter:\", nextGreatestLetter(letters, target))  # Output: 'c'\n"
   ]
  },
  {
   "cell_type": "code",
   "execution_count": 24,
   "id": "e740c966-c36d-4435-85e7-d649cf59d6a1",
   "metadata": {},
   "outputs": [
    {
     "name": "stdout",
     "output_type": "stream",
     "text": [
      "Sorted colors: [0, 0, 1, 1, 2, 2]\n"
     ]
    }
   ],
   "source": [
    "# Function to sort the colors (0 = red, 1 = white, 2 = blue)\n",
    "def sortColors(nums):\n",
    "    low, mid, high = 0, 0, len(nums) - 1\n",
    "\n",
    "    while mid <= high:\n",
    "        if nums[mid] == 0:\n",
    "            nums[low], nums[mid] = nums[mid], nums[low]\n",
    "            low += 1\n",
    "            mid += 1\n",
    "        elif nums[mid] == 1:\n",
    "            mid += 1\n",
    "        else:\n",
    "            nums[mid], nums[high] = nums[high], nums[mid]\n",
    "            high -= 1\n",
    "\n",
    "# Example usage:\n",
    "nums = [2, 0, 2, 1, 1, 0]\n",
    "sortColors(nums)\n",
    "print(\"Sorted colors:\", nums)  # Output: [0, 0, 1, 1, 2, 2]\n"
   ]
  },
  {
   "cell_type": "code",
   "execution_count": 25,
   "id": "242425e5-5f27-4678-893a-11cba09eacaa",
   "metadata": {},
   "outputs": [
    {
     "name": "stdout",
     "output_type": "stream",
     "text": [
      "Kth largest element: 5\n"
     ]
    }
   ],
   "source": [
    "import heapq\n",
    "\n",
    "# Function to find the kth largest element\n",
    "def findKthLargest(nums, k):\n",
    "    return heapq.nlargest(k, nums)[-1]\n",
    "\n",
    "# Example usage:\n",
    "nums = [3, 2, 1, 5, 6, 4]\n",
    "k = 2\n",
    "print(\"Kth largest element:\", findKthLargest(nums, k))  # Output: 5\n"
   ]
  },
  {
   "cell_type": "code",
   "execution_count": 26,
   "id": "1c365a88-72a9-4bfd-a7b5-b4adee4b670f",
   "metadata": {},
   "outputs": [
    {
     "name": "stdout",
     "output_type": "stream",
     "text": [
      "Wiggle sorted array: [3, 5, 1, 6, 2, 4]\n"
     ]
    }
   ],
   "source": [
    "# Function to reorder the array\n",
    "def wiggleSort(nums):\n",
    "    for i in range(1, len(nums)):\n",
    "        if (i % 2 == 1 and nums[i] < nums[i - 1]) or (i % 2 == 0 and nums[i] > nums[i - 1]):\n",
    "            nums[i], nums[i - 1] = nums[i - 1], nums[i]\n",
    "\n",
    "# Example usage:\n",
    "nums = [3, 5, 2, 1, 6, 4]\n",
    "wiggleSort(nums)\n",
    "print(\"Wiggle sorted array:\", nums)  # Output: [3, 5, 1, 6, 2, 4]\n"
   ]
  },
  {
   "cell_type": "code",
   "execution_count": 27,
   "id": "276ea059-59c1-4ce4-b7d2-4e6c1df1cdc7",
   "metadata": {},
   "outputs": [
    {
     "name": "stdout",
     "output_type": "stream",
     "text": [
      "Sum of array elements: 15\n"
     ]
    }
   ],
   "source": [
    "# Function to calculate the sum of all elements\n",
    "def arraySum(nums):\n",
    "    return sum(nums)\n",
    "\n",
    "# Example usage:\n",
    "nums = [1, 2, 3, 4, 5]\n",
    "print(\"Sum of array elements:\", arraySum(nums))  # Output: 15\n"
   ]
  },
  {
   "cell_type": "code",
   "execution_count": 28,
   "id": "5096909c-9d31-4495-aeb3-d19a1514b763",
   "metadata": {},
   "outputs": [
    {
     "name": "stdout",
     "output_type": "stream",
     "text": [
      "Target index: 2\n"
     ]
    }
   ],
   "source": [
    "# Function to perform linear search\n",
    "def linearSearch(nums, target):\n",
    "    for i in range(len(nums)):\n",
    "        if nums[i] == target:\n",
    "            return i\n",
    "    return -1\n",
    "\n",
    "# Example usage:\n",
    "nums = [5, 3, 8, 2, 7, 4]\n",
    "target = 8\n",
    "print(\"Target index:\", linearSearch(nums, target))  # Output: 2\n"
   ]
  },
  {
   "cell_type": "code",
   "execution_count": 29,
   "id": "154c8b8d-976b-4b4a-87d8-2e483a7ebe53",
   "metadata": {},
   "outputs": [
    {
     "name": "stdout",
     "output_type": "stream",
     "text": [
      "Factorial: 120\n"
     ]
    }
   ],
   "source": [
    "# Function to calculate the factorial\n",
    "def factorial(n):\n",
    "    if n == 0 or n == 1:\n",
    "        return 1\n",
    "    return n * factorial(n - 1)\n",
    "\n",
    "# Example usage:\n",
    "n = 5\n",
    "print(\"Factorial:\", factorial(n))  # Output: 120\n"
   ]
  },
  {
   "cell_type": "code",
   "execution_count": 30,
   "id": "309b0582-d09d-41b5-bb6c-66357cdaa4de",
   "metadata": {},
   "outputs": [
    {
     "name": "stdout",
     "output_type": "stream",
     "text": [
      "Is prime: True\n"
     ]
    }
   ],
   "source": [
    "# Function to check if a number is prime\n",
    "def isPrime(n):\n",
    "    if n <= 1:\n",
    "        return False\n",
    "    for i in range(2, int(n ** 0.5) + 1):\n",
    "        if n % i == 0:\n",
    "            return False\n",
    "    return True\n",
    "\n",
    "# Example usage:\n",
    "n = 7\n",
    "print(\"Is prime:\", isPrime(n))  # Output: True\n"
   ]
  },
  {
   "cell_type": "code",
   "execution_count": 31,
   "id": "8656aad1-ca75-4aa9-ae1f-0643c87dedf0",
   "metadata": {},
   "outputs": [
    {
     "name": "stdout",
     "output_type": "stream",
     "text": [
      "Fibonacci series: [0, 1, 1, 2, 3, 5, 8, 13]\n"
     ]
    }
   ],
   "source": [
    "# Function to generate Fibonacci series up to n numbers\n",
    "def fibonacci(n):\n",
    "    fib_sequence = [0, 1]\n",
    "    while len(fib_sequence) < n:\n",
    "        fib_sequence.append(fib_sequence[-1] + fib_sequence[-2])\n",
    "    return fib_sequence[:n]\n",
    "\n",
    "# Example usage:\n",
    "n = 8\n",
    "print(\"Fibonacci series:\", fibonacci(n))  # Output: [0, 1, 1, 2, 3, 5, 8, 13]\n"
   ]
  },
  {
   "cell_type": "code",
   "execution_count": 32,
   "id": "092030ee-bd71-432b-951c-aa0601b6df3f",
   "metadata": {},
   "outputs": [
    {
     "name": "stdout",
     "output_type": "stream",
     "text": [
      "Power: 81\n"
     ]
    }
   ],
   "source": [
    "# Function to calculate power of a number using recursion\n",
    "def power(base, exponent):\n",
    "    if exponent == 0:\n",
    "        return 1\n",
    "    return base * power(base, exponent - 1)\n",
    "\n",
    "# Example usage:\n",
    "base = 3\n",
    "exponent = 4\n",
    "print(\"Power:\", power(base, exponent))  # Output: 81\n"
   ]
  },
  {
   "cell_type": "code",
   "execution_count": 33,
   "id": "3a44d7d0-0567-487f-a9ec-21ae07d4bfb9",
   "metadata": {},
   "outputs": [
    {
     "name": "stdout",
     "output_type": "stream",
     "text": [
      "Reversed string: olleh\n"
     ]
    }
   ],
   "source": [
    "# Function to reverse a string\n",
    "def reverseString(s):\n",
    "    return s[::-1]\n",
    "\n",
    "# Example usage:\n",
    "s = \"hello\"\n",
    "print(\"Reversed string:\", reverseString(s))  # Output: \"olleh\"\n"
   ]
  },
  {
   "cell_type": "code",
   "execution_count": null,
   "id": "467830ec-61f1-4950-9905-95f2b4729ae3",
   "metadata": {},
   "outputs": [],
   "source": []
  }
 ],
 "metadata": {
  "kernelspec": {
   "display_name": "Python 3 (ipykernel)",
   "language": "python",
   "name": "python3"
  },
  "language_info": {
   "codemirror_mode": {
    "name": "ipython",
    "version": 3
   },
   "file_extension": ".py",
   "mimetype": "text/x-python",
   "name": "python",
   "nbconvert_exporter": "python",
   "pygments_lexer": "ipython3",
   "version": "3.10.8"
  }
 },
 "nbformat": 4,
 "nbformat_minor": 5
}
